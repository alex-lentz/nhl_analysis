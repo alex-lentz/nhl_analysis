{
 "cells": [
  {
   "cell_type": "code",
   "execution_count": 1,
   "metadata": {},
   "outputs": [],
   "source": [
    "import numpy as np\n",
    "import pandas as pd\n",
    "import os\n",
    "import io\n",
    "import seaborn as sns\n",
    "import requests\n",
    "import json\n",
    "\n",
    "import matplotlib.pyplot as plt\n",
    "import pymc3 as pm\n",
    "\n",
    "import scipy\n",
    "import scipy.stats as stats\n",
    "import scipy.optimize as opt\n",
    "#import statsmodels.api as sm\n",
    "\n",
    "from pymc3 import Model, Normal, Slice\n",
    "from pymc3 import sample\n",
    "from pymc3 import traceplot\n",
    "from pymc3.distributions import Interpolated, Mixture\n",
    "import theano.tensor as tt \n",
    "from pymc3.distributions.distribution import Continuous, draw_values, generate_samples\n",
    "\n",
    "pd.set_option('display.max_columns', 500)\n",
    "pd.set_option('display.max_rows', 500)\n",
    "plt.style.use('seaborn-darkgrid')\n",
    "pd.set_option('display.max_columns', 500)\n",
    "%matplotlib inline "
   ]
  },
  {
   "cell_type": "code",
   "execution_count": 2,
   "metadata": {},
   "outputs": [],
   "source": [
    "data = pd.read_csv(\"data/combined_seasons.csv\")"
   ]
  },
  {
   "cell_type": "code",
   "execution_count": 3,
   "metadata": {},
   "outputs": [
    {
     "data": {
      "text/html": [
       "<div>\n",
       "<style scoped>\n",
       "    .dataframe tbody tr th:only-of-type {\n",
       "        vertical-align: middle;\n",
       "    }\n",
       "\n",
       "    .dataframe tbody tr th {\n",
       "        vertical-align: top;\n",
       "    }\n",
       "\n",
       "    .dataframe thead th {\n",
       "        text-align: right;\n",
       "    }\n",
       "</style>\n",
       "<table border=\"1\" class=\"dataframe\">\n",
       "  <thead>\n",
       "    <tr style=\"text-align: right;\">\n",
       "      <th></th>\n",
       "      <th>Unnamed: 0</th>\n",
       "      <th>Assist1</th>\n",
       "      <th>Assist1_ID</th>\n",
       "      <th>Assist2</th>\n",
       "      <th>Assist2_ID</th>\n",
       "      <th>Assists2_ID</th>\n",
       "      <th>Away</th>\n",
       "      <th>Away_Score</th>\n",
       "      <th>EmptyNet</th>\n",
       "      <th>Event</th>\n",
       "      <th>EventID</th>\n",
       "      <th>Event_Description</th>\n",
       "      <th>Event_Team</th>\n",
       "      <th>Event_Type_ID</th>\n",
       "      <th>Final_Away_Score</th>\n",
       "      <th>Final_Home_Score</th>\n",
       "      <th>GameDate</th>\n",
       "      <th>GameID</th>\n",
       "      <th>GameState</th>\n",
       "      <th>GameType</th>\n",
       "      <th>Goalie</th>\n",
       "      <th>Goalie_ID</th>\n",
       "      <th>Home</th>\n",
       "      <th>Home_Score</th>\n",
       "      <th>Period</th>\n",
       "      <th>Period_Type</th>\n",
       "      <th>Player_1_ID</th>\n",
       "      <th>Player_1_Name</th>\n",
       "      <th>Player_2_ID</th>\n",
       "      <th>Player_2_Name</th>\n",
       "      <th>Scorer</th>\n",
       "      <th>Scorer_ID</th>\n",
       "      <th>Shooter</th>\n",
       "      <th>Shooter_ID</th>\n",
       "      <th>ShotType</th>\n",
       "      <th>Time_Remaining</th>\n",
       "      <th>Time_in_Period</th>\n",
       "      <th>Venue</th>\n",
       "      <th>x</th>\n",
       "      <th>y</th>\n",
       "      <th>Side</th>\n",
       "      <th>Season</th>\n",
       "      <th>y_stdz</th>\n",
       "      <th>x_stdz</th>\n",
       "      <th>y_normal</th>\n",
       "      <th>x_normal</th>\n",
       "      <th>Event_Team_Adj</th>\n",
       "      <th>y_same</th>\n",
       "      <th>x_same</th>\n",
       "      <th>zone_x</th>\n",
       "      <th>zone_y</th>\n",
       "      <th>shot_zone</th>\n",
       "      <th>Opposition Team</th>\n",
       "      <th>Shifted_Event_Type_ID</th>\n",
       "      <th>Shifted_shot_zone</th>\n",
       "      <th>Shifted_Time_Remaining</th>\n",
       "      <th>Event_Time_Difference</th>\n",
       "      <th>Shot_Context</th>\n",
       "    </tr>\n",
       "  </thead>\n",
       "  <tbody>\n",
       "    <tr>\n",
       "      <th>0</th>\n",
       "      <td>0</td>\n",
       "      <td>None</td>\n",
       "      <td>None</td>\n",
       "      <td>None</td>\n",
       "      <td>NaN</td>\n",
       "      <td>None</td>\n",
       "      <td>Vancouver Canucks</td>\n",
       "      <td>0</td>\n",
       "      <td>None</td>\n",
       "      <td>Game Scheduled</td>\n",
       "      <td>1</td>\n",
       "      <td>Game Scheduled</td>\n",
       "      <td>None</td>\n",
       "      <td>GAME_SCHEDULED</td>\n",
       "      <td>4</td>\n",
       "      <td>3</td>\n",
       "      <td>2017-09-16</td>\n",
       "      <td>2017010001</td>\n",
       "      <td>6</td>\n",
       "      <td>PR</td>\n",
       "      <td>None</td>\n",
       "      <td>None</td>\n",
       "      <td>Los Angeles Kings</td>\n",
       "      <td>0</td>\n",
       "      <td>1</td>\n",
       "      <td>REGULAR</td>\n",
       "      <td>None</td>\n",
       "      <td>None</td>\n",
       "      <td>None</td>\n",
       "      <td>None</td>\n",
       "      <td>None</td>\n",
       "      <td>None</td>\n",
       "      <td>None</td>\n",
       "      <td>None</td>\n",
       "      <td>None</td>\n",
       "      <td>1900-01-01 00:20:00</td>\n",
       "      <td>00:00</td>\n",
       "      <td>STAPLES Center</td>\n",
       "      <td>NaN</td>\n",
       "      <td>NaN</td>\n",
       "      <td>NaN</td>\n",
       "      <td>2017-2018</td>\n",
       "      <td>NaN</td>\n",
       "      <td>NaN</td>\n",
       "      <td>NaN</td>\n",
       "      <td>NaN</td>\n",
       "      <td>None</td>\n",
       "      <td>NaN</td>\n",
       "      <td>NaN</td>\n",
       "      <td>Other</td>\n",
       "      <td>NaN</td>\n",
       "      <td>Other</td>\n",
       "      <td>Los Angeles Kings</td>\n",
       "      <td>NaN</td>\n",
       "      <td>NaN</td>\n",
       "      <td>NaN</td>\n",
       "      <td>NaN</td>\n",
       "      <td>Non-Shot Event</td>\n",
       "    </tr>\n",
       "    <tr>\n",
       "      <th>1</th>\n",
       "      <td>1</td>\n",
       "      <td>None</td>\n",
       "      <td>None</td>\n",
       "      <td>None</td>\n",
       "      <td>NaN</td>\n",
       "      <td>None</td>\n",
       "      <td>Vancouver Canucks</td>\n",
       "      <td>0</td>\n",
       "      <td>None</td>\n",
       "      <td>Period Ready</td>\n",
       "      <td>54</td>\n",
       "      <td>Period Ready</td>\n",
       "      <td>None</td>\n",
       "      <td>PERIOD_READY</td>\n",
       "      <td>4</td>\n",
       "      <td>3</td>\n",
       "      <td>2017-09-16</td>\n",
       "      <td>2017010001</td>\n",
       "      <td>6</td>\n",
       "      <td>PR</td>\n",
       "      <td>None</td>\n",
       "      <td>None</td>\n",
       "      <td>Los Angeles Kings</td>\n",
       "      <td>0</td>\n",
       "      <td>1</td>\n",
       "      <td>REGULAR</td>\n",
       "      <td>None</td>\n",
       "      <td>None</td>\n",
       "      <td>None</td>\n",
       "      <td>None</td>\n",
       "      <td>None</td>\n",
       "      <td>None</td>\n",
       "      <td>None</td>\n",
       "      <td>None</td>\n",
       "      <td>None</td>\n",
       "      <td>1900-01-01 00:20:00</td>\n",
       "      <td>00:00</td>\n",
       "      <td>STAPLES Center</td>\n",
       "      <td>NaN</td>\n",
       "      <td>NaN</td>\n",
       "      <td>NaN</td>\n",
       "      <td>2017-2018</td>\n",
       "      <td>NaN</td>\n",
       "      <td>NaN</td>\n",
       "      <td>NaN</td>\n",
       "      <td>NaN</td>\n",
       "      <td>None</td>\n",
       "      <td>NaN</td>\n",
       "      <td>NaN</td>\n",
       "      <td>Other</td>\n",
       "      <td>NaN</td>\n",
       "      <td>Other</td>\n",
       "      <td>Los Angeles Kings</td>\n",
       "      <td>GAME_SCHEDULED</td>\n",
       "      <td>Other</td>\n",
       "      <td>1900-01-01 00:20:00</td>\n",
       "      <td>0.0</td>\n",
       "      <td>Non-Shot Event</td>\n",
       "    </tr>\n",
       "    <tr>\n",
       "      <th>2</th>\n",
       "      <td>2</td>\n",
       "      <td>None</td>\n",
       "      <td>None</td>\n",
       "      <td>None</td>\n",
       "      <td>NaN</td>\n",
       "      <td>None</td>\n",
       "      <td>Vancouver Canucks</td>\n",
       "      <td>0</td>\n",
       "      <td>None</td>\n",
       "      <td>Period Start</td>\n",
       "      <td>2</td>\n",
       "      <td>Period Start</td>\n",
       "      <td>None</td>\n",
       "      <td>PERIOD_START</td>\n",
       "      <td>4</td>\n",
       "      <td>3</td>\n",
       "      <td>2017-09-16</td>\n",
       "      <td>2017010001</td>\n",
       "      <td>6</td>\n",
       "      <td>PR</td>\n",
       "      <td>None</td>\n",
       "      <td>None</td>\n",
       "      <td>Los Angeles Kings</td>\n",
       "      <td>0</td>\n",
       "      <td>1</td>\n",
       "      <td>REGULAR</td>\n",
       "      <td>None</td>\n",
       "      <td>None</td>\n",
       "      <td>None</td>\n",
       "      <td>None</td>\n",
       "      <td>None</td>\n",
       "      <td>None</td>\n",
       "      <td>None</td>\n",
       "      <td>None</td>\n",
       "      <td>None</td>\n",
       "      <td>1900-01-01 00:20:00</td>\n",
       "      <td>00:00</td>\n",
       "      <td>STAPLES Center</td>\n",
       "      <td>NaN</td>\n",
       "      <td>NaN</td>\n",
       "      <td>NaN</td>\n",
       "      <td>2017-2018</td>\n",
       "      <td>NaN</td>\n",
       "      <td>NaN</td>\n",
       "      <td>NaN</td>\n",
       "      <td>NaN</td>\n",
       "      <td>None</td>\n",
       "      <td>NaN</td>\n",
       "      <td>NaN</td>\n",
       "      <td>Other</td>\n",
       "      <td>NaN</td>\n",
       "      <td>Other</td>\n",
       "      <td>Los Angeles Kings</td>\n",
       "      <td>PERIOD_READY</td>\n",
       "      <td>Other</td>\n",
       "      <td>1900-01-01 00:20:00</td>\n",
       "      <td>0.0</td>\n",
       "      <td>Non-Shot Event</td>\n",
       "    </tr>\n",
       "    <tr>\n",
       "      <th>3</th>\n",
       "      <td>3</td>\n",
       "      <td>None</td>\n",
       "      <td>None</td>\n",
       "      <td>None</td>\n",
       "      <td>NaN</td>\n",
       "      <td>None</td>\n",
       "      <td>Vancouver Canucks</td>\n",
       "      <td>0</td>\n",
       "      <td>None</td>\n",
       "      <td>Faceoff</td>\n",
       "      <td>3</td>\n",
       "      <td>Markus Granlund faceoff won against Adrian Kempe</td>\n",
       "      <td>Vancouver Canucks</td>\n",
       "      <td>FACEOFF</td>\n",
       "      <td>4</td>\n",
       "      <td>3</td>\n",
       "      <td>2017-09-16</td>\n",
       "      <td>2017010001</td>\n",
       "      <td>6</td>\n",
       "      <td>PR</td>\n",
       "      <td>None</td>\n",
       "      <td>None</td>\n",
       "      <td>Los Angeles Kings</td>\n",
       "      <td>0</td>\n",
       "      <td>1</td>\n",
       "      <td>REGULAR</td>\n",
       "      <td>8476440</td>\n",
       "      <td>Markus Granlund</td>\n",
       "      <td>8477960</td>\n",
       "      <td>Adrian Kempe</td>\n",
       "      <td>None</td>\n",
       "      <td>None</td>\n",
       "      <td>None</td>\n",
       "      <td>None</td>\n",
       "      <td>None</td>\n",
       "      <td>1900-01-01 00:20:00</td>\n",
       "      <td>00:00</td>\n",
       "      <td>STAPLES Center</td>\n",
       "      <td>0.0</td>\n",
       "      <td>0.0</td>\n",
       "      <td>left</td>\n",
       "      <td>2017-2018</td>\n",
       "      <td>0.0</td>\n",
       "      <td>0.0</td>\n",
       "      <td>-0.0</td>\n",
       "      <td>-0.0</td>\n",
       "      <td>Vancouver Canucks</td>\n",
       "      <td>-0.0</td>\n",
       "      <td>-0.0</td>\n",
       "      <td>Other</td>\n",
       "      <td>Center</td>\n",
       "      <td>Other</td>\n",
       "      <td>Los Angeles Kings</td>\n",
       "      <td>PERIOD_START</td>\n",
       "      <td>Other</td>\n",
       "      <td>1900-01-01 00:20:00</td>\n",
       "      <td>0.0</td>\n",
       "      <td>Non-Shot Event</td>\n",
       "    </tr>\n",
       "    <tr>\n",
       "      <th>4</th>\n",
       "      <td>4</td>\n",
       "      <td>None</td>\n",
       "      <td>None</td>\n",
       "      <td>None</td>\n",
       "      <td>NaN</td>\n",
       "      <td>None</td>\n",
       "      <td>Vancouver Canucks</td>\n",
       "      <td>0</td>\n",
       "      <td>None</td>\n",
       "      <td>Penalty</td>\n",
       "      <td>57</td>\n",
       "      <td>Adrian Kempe Hooking against Philip Holm</td>\n",
       "      <td>Los Angeles Kings</td>\n",
       "      <td>PENALTY</td>\n",
       "      <td>4</td>\n",
       "      <td>3</td>\n",
       "      <td>2017-09-16</td>\n",
       "      <td>2017010001</td>\n",
       "      <td>6</td>\n",
       "      <td>PR</td>\n",
       "      <td>None</td>\n",
       "      <td>None</td>\n",
       "      <td>Los Angeles Kings</td>\n",
       "      <td>0</td>\n",
       "      <td>1</td>\n",
       "      <td>REGULAR</td>\n",
       "      <td>8477960</td>\n",
       "      <td>Adrian Kempe</td>\n",
       "      <td>8480163</td>\n",
       "      <td>Philip Holm</td>\n",
       "      <td>None</td>\n",
       "      <td>None</td>\n",
       "      <td>None</td>\n",
       "      <td>None</td>\n",
       "      <td>Hooking</td>\n",
       "      <td>1900-01-01 00:19:41</td>\n",
       "      <td>00:19</td>\n",
       "      <td>STAPLES Center</td>\n",
       "      <td>11.0</td>\n",
       "      <td>36.0</td>\n",
       "      <td>right</td>\n",
       "      <td>2017-2018</td>\n",
       "      <td>36.0</td>\n",
       "      <td>11.0</td>\n",
       "      <td>-36.0</td>\n",
       "      <td>-11.0</td>\n",
       "      <td>Los Angeles Kings</td>\n",
       "      <td>36.0</td>\n",
       "      <td>11.0</td>\n",
       "      <td>Other</td>\n",
       "      <td>Right Board</td>\n",
       "      <td>Other</td>\n",
       "      <td>Vancouver Canucks</td>\n",
       "      <td>FACEOFF</td>\n",
       "      <td>Other</td>\n",
       "      <td>1900-01-01 00:20:00</td>\n",
       "      <td>19.0</td>\n",
       "      <td>Non-Shot Event</td>\n",
       "    </tr>\n",
       "  </tbody>\n",
       "</table>\n",
       "</div>"
      ],
      "text/plain": [
       "   Unnamed: 0 Assist1 Assist1_ID Assist2  Assist2_ID Assists2_ID  \\\n",
       "0           0    None       None    None         NaN        None   \n",
       "1           1    None       None    None         NaN        None   \n",
       "2           2    None       None    None         NaN        None   \n",
       "3           3    None       None    None         NaN        None   \n",
       "4           4    None       None    None         NaN        None   \n",
       "\n",
       "                Away  Away_Score EmptyNet           Event  EventID  \\\n",
       "0  Vancouver Canucks           0     None  Game Scheduled        1   \n",
       "1  Vancouver Canucks           0     None    Period Ready       54   \n",
       "2  Vancouver Canucks           0     None    Period Start        2   \n",
       "3  Vancouver Canucks           0     None         Faceoff        3   \n",
       "4  Vancouver Canucks           0     None         Penalty       57   \n",
       "\n",
       "                                  Event_Description         Event_Team  \\\n",
       "0                                    Game Scheduled               None   \n",
       "1                                      Period Ready               None   \n",
       "2                                      Period Start               None   \n",
       "3  Markus Granlund faceoff won against Adrian Kempe  Vancouver Canucks   \n",
       "4          Adrian Kempe Hooking against Philip Holm  Los Angeles Kings   \n",
       "\n",
       "    Event_Type_ID  Final_Away_Score  Final_Home_Score    GameDate      GameID  \\\n",
       "0  GAME_SCHEDULED                 4                 3  2017-09-16  2017010001   \n",
       "1    PERIOD_READY                 4                 3  2017-09-16  2017010001   \n",
       "2    PERIOD_START                 4                 3  2017-09-16  2017010001   \n",
       "3         FACEOFF                 4                 3  2017-09-16  2017010001   \n",
       "4         PENALTY                 4                 3  2017-09-16  2017010001   \n",
       "\n",
       "   GameState GameType Goalie Goalie_ID               Home  Home_Score  Period  \\\n",
       "0          6       PR   None      None  Los Angeles Kings           0       1   \n",
       "1          6       PR   None      None  Los Angeles Kings           0       1   \n",
       "2          6       PR   None      None  Los Angeles Kings           0       1   \n",
       "3          6       PR   None      None  Los Angeles Kings           0       1   \n",
       "4          6       PR   None      None  Los Angeles Kings           0       1   \n",
       "\n",
       "  Period_Type Player_1_ID    Player_1_Name Player_2_ID Player_2_Name Scorer  \\\n",
       "0     REGULAR        None             None        None          None   None   \n",
       "1     REGULAR        None             None        None          None   None   \n",
       "2     REGULAR        None             None        None          None   None   \n",
       "3     REGULAR     8476440  Markus Granlund     8477960  Adrian Kempe   None   \n",
       "4     REGULAR     8477960     Adrian Kempe     8480163   Philip Holm   None   \n",
       "\n",
       "  Scorer_ID Shooter Shooter_ID ShotType       Time_Remaining Time_in_Period  \\\n",
       "0      None    None       None     None  1900-01-01 00:20:00          00:00   \n",
       "1      None    None       None     None  1900-01-01 00:20:00          00:00   \n",
       "2      None    None       None     None  1900-01-01 00:20:00          00:00   \n",
       "3      None    None       None     None  1900-01-01 00:20:00          00:00   \n",
       "4      None    None       None  Hooking  1900-01-01 00:19:41          00:19   \n",
       "\n",
       "            Venue     x     y   Side     Season  y_stdz  x_stdz  y_normal  \\\n",
       "0  STAPLES Center   NaN   NaN    NaN  2017-2018     NaN     NaN       NaN   \n",
       "1  STAPLES Center   NaN   NaN    NaN  2017-2018     NaN     NaN       NaN   \n",
       "2  STAPLES Center   NaN   NaN    NaN  2017-2018     NaN     NaN       NaN   \n",
       "3  STAPLES Center   0.0   0.0   left  2017-2018     0.0     0.0      -0.0   \n",
       "4  STAPLES Center  11.0  36.0  right  2017-2018    36.0    11.0     -36.0   \n",
       "\n",
       "   x_normal     Event_Team_Adj  y_same  x_same zone_x       zone_y shot_zone  \\\n",
       "0       NaN               None     NaN     NaN  Other          NaN     Other   \n",
       "1       NaN               None     NaN     NaN  Other          NaN     Other   \n",
       "2       NaN               None     NaN     NaN  Other          NaN     Other   \n",
       "3      -0.0  Vancouver Canucks    -0.0    -0.0  Other       Center     Other   \n",
       "4     -11.0  Los Angeles Kings    36.0    11.0  Other  Right Board     Other   \n",
       "\n",
       "     Opposition Team Shifted_Event_Type_ID Shifted_shot_zone  \\\n",
       "0  Los Angeles Kings                   NaN               NaN   \n",
       "1  Los Angeles Kings        GAME_SCHEDULED             Other   \n",
       "2  Los Angeles Kings          PERIOD_READY             Other   \n",
       "3  Los Angeles Kings          PERIOD_START             Other   \n",
       "4  Vancouver Canucks               FACEOFF             Other   \n",
       "\n",
       "  Shifted_Time_Remaining  Event_Time_Difference    Shot_Context  \n",
       "0                    NaN                    NaN  Non-Shot Event  \n",
       "1    1900-01-01 00:20:00                    0.0  Non-Shot Event  \n",
       "2    1900-01-01 00:20:00                    0.0  Non-Shot Event  \n",
       "3    1900-01-01 00:20:00                    0.0  Non-Shot Event  \n",
       "4    1900-01-01 00:20:00                   19.0  Non-Shot Event  "
      ]
     },
     "execution_count": 3,
     "metadata": {},
     "output_type": "execute_result"
    }
   ],
   "source": [
    "data.head()"
   ]
  },
  {
   "cell_type": "code",
   "execution_count": 4,
   "metadata": {},
   "outputs": [],
   "source": [
    "hurricanes = data[(data['GameType'] == 'R') & (data['Event_Type_ID'] == 'GOAL') & (data['EmptyNet'] != 'True') & (data['Period'] != 4) & (data['Period'] != 5) & ((data['Away'] == 'Carolina Hurricanes') | (data['Home'] == 'Carolina Hurricanes'))].reset_index()"
   ]
  },
  {
   "cell_type": "code",
   "execution_count": 5,
   "metadata": {},
   "outputs": [
    {
     "data": {
      "text/plain": [
       "array([1, 2, 3])"
      ]
     },
     "execution_count": 5,
     "metadata": {},
     "output_type": "execute_result"
    }
   ],
   "source": [
    "hurricanes['Period'].unique()"
   ]
  },
  {
   "cell_type": "code",
   "execution_count": 6,
   "metadata": {},
   "outputs": [],
   "source": [
    "canes_games = hurricanes[['Event_Type_ID', 'Home', 'Away', 'Period', 'GameID', 'Event_Team', 'GameDate', 'Season','Final_Away_Score', 'Final_Home_Score']]"
   ]
  },
  {
   "cell_type": "code",
   "execution_count": 7,
   "metadata": {},
   "outputs": [
    {
     "name": "stderr",
     "output_type": "stream",
     "text": [
      "/opt/conda/lib/python3.6/site-packages/ipykernel_launcher.py:1: SettingWithCopyWarning: \n",
      "A value is trying to be set on a copy of a slice from a DataFrame.\n",
      "Try using .loc[row_indexer,col_indexer] = value instead\n",
      "\n",
      "See the caveats in the documentation: http://pandas.pydata.org/pandas-docs/stable/indexing.html#indexing-view-versus-copy\n",
      "  \"\"\"Entry point for launching an IPython kernel.\n"
     ]
    }
   ],
   "source": [
    "canes_games['Opponent'] = canes_games['Event_Team'].apply(lambda x: x if x == 'Carolina Hurricanes' else 'Opponent')"
   ]
  },
  {
   "cell_type": "code",
   "execution_count": 8,
   "metadata": {},
   "outputs": [],
   "source": [
    "grouped = canes_games[['GameID', 'Opponent', 'Period']].groupby(['GameID', 'Opponent']).count().reset_index()\n",
    "grouped = grouped.groupby(['GameID', 'Opponent'])['Period'].aggregate('mean').unstack().reset_index().fillna(0)\n",
    "game_info = canes_games[['GameID', 'Final_Away_Score', 'Final_Home_Score', 'Home', 'Away', 'GameDate', 'Season']].drop_duplicates()\n",
    "game_data = game_info.merge(grouped, on='GameID', how='inner')\n",
    "game_data['GoalDiff'] = game_data['Carolina Hurricanes'] - game_data['Opponent']"
   ]
  },
  {
   "cell_type": "code",
   "execution_count": 13,
   "metadata": {},
   "outputs": [],
   "source": [
    "df_2018 = game_data[game_data['Season'] == '2017-2018'].reset_index()\n",
    "df_2019 = game_data[game_data['Season'] == '2018-2019'].reset_index()"
   ]
  },
  {
   "cell_type": "code",
   "execution_count": 14,
   "metadata": {},
   "outputs": [
    {
     "data": {
      "text/plain": [
       "<matplotlib.axes._subplots.AxesSubplot at 0x7f4f6c8d6588>"
      ]
     },
     "execution_count": 14,
     "metadata": {},
     "output_type": "execute_result"
    },
    {
     "data": {
      "image/png": "[encoded data removed]",
      "text/plain": [
       "<Figure size 432x288 with 1 Axes>"
      ]
     },
     "metadata": {
      "needs_background": "light"
     },
     "output_type": "display_data"
    }
   ],
   "source": [
    "df_2018['GoalDiff'].hist()"
   ]
  },
  {
   "cell_type": "code",
   "execution_count": 25,
   "metadata": {},
   "outputs": [
    {
     "name": "stderr",
     "output_type": "stream",
     "text": [
      "Auto-assigning NUTS sampler...\n",
      "Initializing NUTS using jitter+adapt_diag...\n",
      "Sequential sampling (2 chains in 1 job)\n",
      "NUTS: [sd_normal, mu_normal]\n",
      "100%|██████████| 52500/52500 [00:49<00:00, 1063.83it/s]\n",
      "100%|██████████| 52500/52500 [00:50<00:00, 1042.59it/s]\n"
     ]
    }
   ],
   "source": [
    "with pm.Model() as model:\n",
    "    \n",
    "    #Pooled Parameters\n",
    "    mu_normal = pm.Uniform('mu_normal', lower=-10.0, upper=10.0)\n",
    "    sd_normal = pm.Uniform('sd_normal', lower=0.5, upper=6)\n",
    "    #nu_t = pm.Uniform('nu_normal', lower=1, upper=100)\n",
    "    \n",
    "    likelihood = pm.Normal('likelihood', mu=mu_normal, sd=sd_normal, observed=df_2018['GoalDiff'].values)\n",
    "    #y_est = pm.Normal('y_est', mu=mu_normal, sd=sd_normal)\n",
    "    \n",
    "    trace = pm.sample(50000, cores=-1, tune=2500)"
   ]
  },
  {
   "cell_type": "code",
   "execution_count": 26,
   "metadata": {},
   "outputs": [
    {
     "data": {
      "text/plain": [
       "array([[<matplotlib.axes._subplots.AxesSubplot object at 0x7f4f383c95f8>,\n",
       "        <matplotlib.axes._subplots.AxesSubplot object at 0x7f4f381e04a8>],\n",
       "       [<matplotlib.axes._subplots.AxesSubplot object at 0x7f4f38405b70>,\n",
       "        <matplotlib.axes._subplots.AxesSubplot object at 0x7f4f383c9b70>]], dtype=object)"
      ]
     },
     "execution_count": 26,
     "metadata": {},
     "output_type": "execute_result"
    },
    {
     "data": {
      "image/png": "[encoded data removed]",
      "text/plain": [
       "<Figure size 864x288 with 4 Axes>"
      ]
     },
     "metadata": {
      "needs_background": "light"
     },
     "output_type": "display_data"
    }
   ],
   "source": [
    "pm.traceplot(trace)"
   ]
  },
  {
   "cell_type": "code",
   "execution_count": 27,
   "metadata": {},
   "outputs": [
    {
     "data": {
      "text/plain": [
       "array([<matplotlib.axes._subplots.AxesSubplot object at 0x7f4f384aa860>,\n",
       "       <matplotlib.axes._subplots.AxesSubplot object at 0x7f4f38334588>], dtype=object)"
      ]
     },
     "execution_count": 27,
     "metadata": {},
     "output_type": "execute_result"
    },
    {
     "data": {
      "image/png": "[encoded data removed]",
      "text/plain": [
       "<Figure size 864x180 with 2 Axes>"
      ]
     },
     "metadata": {
      "needs_background": "light"
     },
     "output_type": "display_data"
    }
   ],
   "source": [
    "pm.plot_posterior(trace)"
   ]
  },
  {
   "cell_type": "code",
   "execution_count": 42,
   "metadata": {},
   "outputs": [],
   "source": [
    "import pickle\n",
    "\n",
    "with open('20172018_trace', 'wb') as handle:\n",
    "    pickle.dump(trace, handle, protocol=pickle.HIGHEST_PROTOCOL)"
   ]
  },
  {
   "cell_type": "code",
   "execution_count": 28,
   "metadata": {},
   "outputs": [],
   "source": [
    "def from_posterior(param, samples):\n",
    "    smin, smax = np.min(samples), np.max(samples)\n",
    "    width = smax - smin\n",
    "    x = np.linspace(smin, smax, 100)\n",
    "    y = stats.gaussian_kde(samples)(x)\n",
    "    \n",
    "    # what was never sampled should have a small probability but not 0,\n",
    "    # so we'll extend the domain and use linear approximation of density on it\n",
    "    x = np.concatenate([[x[0] - 3 * width], x, [x[-1] + 3 * width]])\n",
    "    y = np.concatenate([[0], y, [0]])\n",
    "    \n",
    "    return Interpolated(param, x, y)"
   ]
  },
  {
   "cell_type": "code",
   "execution_count": 29,
   "metadata": {},
   "outputs": [],
   "source": [
    "def prob_persona_faster(persona, personb):\n",
    "    return np.float(sum(np.array(persona) - np.array(personb) > 0))/len(personb)"
   ]
  },
  {
   "cell_type": "code",
   "execution_count": 31,
   "metadata": {},
   "outputs": [
    {
     "data": {
      "text/plain": [
       "100000"
      ]
     },
     "execution_count": 31,
     "metadata": {},
     "output_type": "execute_result"
    }
   ],
   "source": [
    "len(trace.get_values('mu_normal'))"
   ]
  },
  {
   "cell_type": "code",
   "execution_count": 32,
   "metadata": {},
   "outputs": [
    {
     "name": "stderr",
     "output_type": "stream",
     "text": [
      "Auto-assigning NUTS sampler...\n",
      "Initializing NUTS using jitter+adapt_diag...\n",
      "Sequential sampling (2 chains in 1 job)\n",
      "NUTS: [sd_normal, mu_normal]\n",
      "100%|██████████| 52500/52500 [01:07<00:00, 783.46it/s]\n",
      "100%|██████████| 52500/52500 [01:05<00:00, 805.82it/s]\n",
      "There were 97 divergences after tuning. Increase `target_accept` or reparameterize.\n",
      "There were 258 divergences after tuning. Increase `target_accept` or reparameterize.\n",
      "The number of effective samples is smaller than 10% for some parameters.\n"
     ]
    },
    {
     "name": "stdout",
     "output_type": "stream",
     "text": [
      "[0.50301]\n"
     ]
    },
    {
     "name": "stderr",
     "output_type": "stream",
     "text": [
      "Auto-assigning NUTS sampler...\n",
      "Initializing NUTS using jitter+adapt_diag...\n",
      "Sequential sampling (2 chains in 1 job)\n",
      "NUTS: [sd_normal, mu_normal]\n",
      "100%|██████████| 52500/52500 [01:13<00:00, 718.34it/s]\n",
      "100%|██████████| 52500/52500 [01:30<00:00, 580.72it/s]\n",
      "There was 1 divergence after tuning. Increase `target_accept` or reparameterize.\n",
      "There were 20 divergences after tuning. Increase `target_accept` or reparameterize.\n",
      "The acceptance probability does not match the target. It is 0.614242685865, but should be close to 0.8. Try to increase the number of tuning steps.\n"
     ]
    },
    {
     "name": "stdout",
     "output_type": "stream",
     "text": [
      "[0.50301, 0.53354]\n"
     ]
    },
    {
     "name": "stderr",
     "output_type": "stream",
     "text": [
      "Auto-assigning NUTS sampler...\n",
      "Initializing NUTS using jitter+adapt_diag...\n",
      "Sequential sampling (2 chains in 1 job)\n",
      "NUTS: [sd_normal, mu_normal]\n",
      "100%|██████████| 52500/52500 [01:17<00:00, 673.19it/s]\n",
      "100%|██████████| 52500/52500 [01:31<00:00, 576.80it/s]\n"
     ]
    },
    {
     "name": "stdout",
     "output_type": "stream",
     "text": [
      "[0.50301, 0.53354, 0.56934]\n"
     ]
    },
    {
     "name": "stderr",
     "output_type": "stream",
     "text": [
      "Auto-assigning NUTS sampler...\n",
      "Initializing NUTS using jitter+adapt_diag...\n",
      "Sequential sampling (2 chains in 1 job)\n",
      "NUTS: [sd_normal, mu_normal]\n",
      "100%|██████████| 52500/52500 [01:57<00:00, 447.50it/s]\n",
      "100%|██████████| 52500/52500 [01:26<00:00, 609.47it/s]\n",
      "The acceptance probability does not match the target. It is 0.891449432966, but should be close to 0.8. Try to increase the number of tuning steps.\n"
     ]
    },
    {
     "name": "stdout",
     "output_type": "stream",
     "text": [
      "[0.50301, 0.53354, 0.56934, 0.60035]\n"
     ]
    },
    {
     "name": "stderr",
     "output_type": "stream",
     "text": [
      "Auto-assigning NUTS sampler...\n",
      "Initializing NUTS using jitter+adapt_diag...\n",
      "Sequential sampling (2 chains in 1 job)\n",
      "NUTS: [sd_normal, mu_normal]\n",
      "100%|██████████| 52500/52500 [01:25<00:00, 613.50it/s]\n",
      "100%|██████████| 52500/52500 [01:33<00:00, 564.41it/s]\n",
      "There was 1 divergence after tuning. Increase `target_accept` or reparameterize.\n",
      "There was 1 divergence after tuning. Increase `target_accept` or reparameterize.\n"
     ]
    },
    {
     "name": "stdout",
     "output_type": "stream",
     "text": [
      "[0.50301, 0.53354, 0.56934, 0.60035, 0.60159]\n"
     ]
    },
    {
     "name": "stderr",
     "output_type": "stream",
     "text": [
      "Auto-assigning NUTS sampler...\n",
      "Initializing NUTS using jitter+adapt_diag...\n",
      "Sequential sampling (2 chains in 1 job)\n",
      "NUTS: [sd_normal, mu_normal]\n",
      "100%|██████████| 52500/52500 [01:20<00:00, 661.01it/s]\n",
      "100%|██████████| 52500/52500 [01:19<00:00, 659.85it/s]\n"
     ]
    },
    {
     "name": "stdout",
     "output_type": "stream",
     "text": [
      "[0.50301, 0.53354, 0.56934, 0.60035, 0.60159, 0.58913]\n"
     ]
    },
    {
     "name": "stderr",
     "output_type": "stream",
     "text": [
      "Auto-assigning NUTS sampler...\n",
      "Initializing NUTS using jitter+adapt_diag...\n",
      "Sequential sampling (2 chains in 1 job)\n",
      "NUTS: [sd_normal, mu_normal]\n",
      "100%|██████████| 52500/52500 [01:11<00:00, 731.60it/s]\n",
      "  0%|          | 0/52500 [00:00<?, ?it/s]\n",
      "Auto-assigning NUTS sampler...\n",
      "Initializing NUTS using jitter+adapt_diag...\n",
      "Sequential sampling (2 chains in 1 job)\n",
      "NUTS: [sd_normal, mu_normal]\n",
      "100%|██████████| 52500/52500 [01:10<00:00, 741.85it/s]\n",
      "100%|██████████| 52500/52500 [01:09<00:00, 758.23it/s]\n"
     ]
    },
    {
     "name": "stdout",
     "output_type": "stream",
     "text": [
      "[0.50301, 0.53354, 0.56934, 0.60035, 0.60159, 0.58913, 0.58098]\n"
     ]
    },
    {
     "name": "stderr",
     "output_type": "stream",
     "text": [
      "Auto-assigning NUTS sampler...\n",
      "Initializing NUTS using jitter+adapt_diag...\n",
      "Sequential sampling (2 chains in 1 job)\n",
      "NUTS: [sd_normal, mu_normal]\n",
      "100%|██████████| 52500/52500 [01:05<00:00, 798.77it/s]\n",
      "100%|██████████| 52500/52500 [01:08<00:00, 767.26it/s]\n"
     ]
    },
    {
     "name": "stdout",
     "output_type": "stream",
     "text": [
      "[0.50301, 0.53354, 0.56934, 0.60035, 0.60159, 0.58913, 0.58098, 0.55259]\n"
     ]
    },
    {
     "name": "stderr",
     "output_type": "stream",
     "text": [
      "Auto-assigning NUTS sampler...\n",
      "Initializing NUTS using jitter+adapt_diag...\n",
      "Sequential sampling (2 chains in 1 job)\n",
      "NUTS: [sd_normal, mu_normal]\n",
      "100%|██████████| 52500/52500 [01:09<00:00, 757.72it/s]\n",
      "100%|██████████| 52500/52500 [01:15<00:00, 699.45it/s]\n"
     ]
    },
    {
     "name": "stdout",
     "output_type": "stream",
     "text": [
      "[0.50301, 0.53354, 0.56934, 0.60035, 0.60159, 0.58913, 0.58098, 0.55259, 0.56777]\n"
     ]
    },
    {
     "name": "stderr",
     "output_type": "stream",
     "text": [
      "Auto-assigning NUTS sampler...\n",
      "Initializing NUTS using jitter+adapt_diag...\n",
      "Sequential sampling (2 chains in 1 job)\n",
      "NUTS: [sd_normal, mu_normal]\n",
      "100%|██████████| 52500/52500 [01:07<00:00, 775.70it/s]\n",
      "100%|██████████| 52500/52500 [01:03<00:00, 820.78it/s]\n"
     ]
    },
    {
     "name": "stdout",
     "output_type": "stream",
     "text": [
      "[0.50301, 0.53354, 0.56934, 0.60035, 0.60159, 0.58913, 0.58098, 0.55259, 0.56777, 0.5742]\n"
     ]
    },
    {
     "name": "stderr",
     "output_type": "stream",
     "text": [
      "Auto-assigning NUTS sampler...\n",
      "Initializing NUTS using jitter+adapt_diag...\n",
      "Sequential sampling (2 chains in 1 job)\n",
      "NUTS: [sd_normal, mu_normal]\n",
      "100%|██████████| 52500/52500 [01:04<00:00, 815.18it/s]\n",
      "100%|██████████| 52500/52500 [01:02<00:00, 834.42it/s]\n"
     ]
    },
    {
     "name": "stdout",
     "output_type": "stream",
     "text": [
      "[0.50301, 0.53354, 0.56934, 0.60035, 0.60159, 0.58913, 0.58098, 0.55259, 0.56777, 0.5742, 0.56199]\n"
     ]
    },
    {
     "name": "stderr",
     "output_type": "stream",
     "text": [
      "Auto-assigning NUTS sampler...\n",
      "Initializing NUTS using jitter+adapt_diag...\n",
      "Sequential sampling (2 chains in 1 job)\n",
      "NUTS: [sd_normal, mu_normal]\n",
      "100%|██████████| 52500/52500 [01:05<00:00, 805.87it/s]\n",
      "100%|██████████| 52500/52500 [01:02<00:00, 843.52it/s]\n"
     ]
    },
    {
     "name": "stdout",
     "output_type": "stream",
     "text": [
      "[0.50301, 0.53354, 0.56934, 0.60035, 0.60159, 0.58913, 0.58098, 0.55259, 0.56777, 0.5742, 0.56199, 0.54905]\n"
     ]
    },
    {
     "name": "stderr",
     "output_type": "stream",
     "text": [
      "Auto-assigning NUTS sampler...\n",
      "Initializing NUTS using jitter+adapt_diag...\n",
      "Sequential sampling (2 chains in 1 job)\n",
      "NUTS: [sd_normal, mu_normal]\n",
      "100%|██████████| 52500/52500 [01:03<00:00, 828.16it/s]\n",
      "100%|██████████| 52500/52500 [01:07<00:00, 772.97it/s]\n",
      "There were 43 divergences after tuning. Increase `target_accept` or reparameterize.\n"
     ]
    },
    {
     "name": "stdout",
     "output_type": "stream",
     "text": [
      "[0.50301, 0.53354, 0.56934, 0.60035, 0.60159, 0.58913, 0.58098, 0.55259, 0.56777, 0.5742, 0.56199, 0.54905, 0.55437]\n"
     ]
    },
    {
     "name": "stderr",
     "output_type": "stream",
     "text": [
      "Auto-assigning NUTS sampler...\n",
      "Initializing NUTS using jitter+adapt_diag...\n",
      "Sequential sampling (2 chains in 1 job)\n",
      "NUTS: [sd_normal, mu_normal]\n",
      "100%|██████████| 52500/52500 [01:03<00:00, 830.99it/s]\n",
      "100%|██████████| 52500/52500 [01:02<00:00, 842.73it/s]\n"
     ]
    },
    {
     "name": "stdout",
     "output_type": "stream",
     "text": [
      "[0.50301, 0.53354, 0.56934, 0.60035, 0.60159, 0.58913, 0.58098, 0.55259, 0.56777, 0.5742, 0.56199, 0.54905, 0.55437, 0.51083]\n"
     ]
    },
    {
     "name": "stderr",
     "output_type": "stream",
     "text": [
      "Auto-assigning NUTS sampler...\n",
      "Initializing NUTS using jitter+adapt_diag...\n",
      "Sequential sampling (2 chains in 1 job)\n",
      "NUTS: [sd_normal, mu_normal]\n",
      "100%|██████████| 52500/52500 [01:03<00:00, 829.51it/s]\n",
      "100%|██████████| 52500/52500 [01:04<00:00, 819.38it/s]\n",
      "There was 1 divergence after tuning. Increase `target_accept` or reparameterize.\n",
      "There was 1 divergence after tuning. Increase `target_accept` or reparameterize.\n"
     ]
    },
    {
     "name": "stdout",
     "output_type": "stream",
     "text": [
      "[0.50301, 0.53354, 0.56934, 0.60035, 0.60159, 0.58913, 0.58098, 0.55259, 0.56777, 0.5742, 0.56199, 0.54905, 0.55437, 0.51083, 0.48468]\n"
     ]
    },
    {
     "name": "stderr",
     "output_type": "stream",
     "text": [
      "Auto-assigning NUTS sampler...\n",
      "Initializing NUTS using jitter+adapt_diag...\n",
      "Sequential sampling (2 chains in 1 job)\n",
      "NUTS: [sd_normal, mu_normal]\n",
      "100%|██████████| 52500/52500 [01:03<00:00, 832.77it/s]\n",
      "100%|██████████| 52500/52500 [01:03<00:00, 831.63it/s]\n"
     ]
    },
    {
     "name": "stdout",
     "output_type": "stream",
     "text": [
      "[0.50301, 0.53354, 0.56934, 0.60035, 0.60159, 0.58913, 0.58098, 0.55259, 0.56777, 0.5742, 0.56199, 0.54905, 0.55437, 0.51083, 0.48468, 0.50359]\n"
     ]
    },
    {
     "name": "stderr",
     "output_type": "stream",
     "text": [
      "Auto-assigning NUTS sampler...\n",
      "Initializing NUTS using jitter+adapt_diag...\n",
      "Sequential sampling (2 chains in 1 job)\n",
      "NUTS: [sd_normal, mu_normal]\n",
      "100%|██████████| 52500/52500 [01:02<00:00, 833.99it/s]\n",
      "100%|██████████| 52500/52500 [01:03<00:00, 829.16it/s]\n"
     ]
    },
    {
     "name": "stdout",
     "output_type": "stream",
     "text": [
      "[0.50301, 0.53354, 0.56934, 0.60035, 0.60159, 0.58913, 0.58098, 0.55259, 0.56777, 0.5742, 0.56199, 0.54905, 0.55437, 0.51083, 0.48468, 0.50359, 0.50489]\n"
     ]
    },
    {
     "name": "stderr",
     "output_type": "stream",
     "text": [
      "Auto-assigning NUTS sampler...\n",
      "Initializing NUTS using jitter+adapt_diag...\n",
      "Sequential sampling (2 chains in 1 job)\n",
      "NUTS: [sd_normal, mu_normal]\n",
      "100%|██████████| 52500/52500 [01:04<00:00, 812.38it/s]\n",
      "100%|██████████| 52500/52500 [01:04<00:00, 818.63it/s]\n"
     ]
    },
    {
     "name": "stdout",
     "output_type": "stream",
     "text": [
      "[0.50301, 0.53354, 0.56934, 0.60035, 0.60159, 0.58913, 0.58098, 0.55259, 0.56777, 0.5742, 0.56199, 0.54905, 0.55437, 0.51083, 0.48468, 0.50359, 0.50489, 0.51031]\n"
     ]
    },
    {
     "name": "stderr",
     "output_type": "stream",
     "text": [
      "Auto-assigning NUTS sampler...\n",
      "Initializing NUTS using jitter+adapt_diag...\n",
      "Sequential sampling (2 chains in 1 job)\n",
      "NUTS: [sd_normal, mu_normal]\n",
      "100%|██████████| 52500/52500 [01:02<00:00, 838.68it/s]\n",
      "  0%|          | 0/52500 [00:00<?, ?it/s]\n",
      "Auto-assigning NUTS sampler...\n",
      "Initializing NUTS using jitter+adapt_diag...\n",
      "Sequential sampling (2 chains in 1 job)\n",
      "NUTS: [sd_normal, mu_normal]\n",
      "100%|██████████| 52500/52500 [01:02<00:00, 846.58it/s]\n",
      "100%|██████████| 52500/52500 [01:01<00:00, 848.40it/s]\n"
     ]
    },
    {
     "name": "stdout",
     "output_type": "stream",
     "text": [
      "[0.50301, 0.53354, 0.56934, 0.60035, 0.60159, 0.58913, 0.58098, 0.55259, 0.56777, 0.5742, 0.56199, 0.54905, 0.55437, 0.51083, 0.48468, 0.50359, 0.50489, 0.51031, 0.46972]\n"
     ]
    },
    {
     "name": "stderr",
     "output_type": "stream",
     "text": [
      "Auto-assigning NUTS sampler...\n",
      "Initializing NUTS using jitter+adapt_diag...\n",
      "Sequential sampling (2 chains in 1 job)\n",
      "NUTS: [sd_normal, mu_normal]\n",
      "100%|██████████| 52500/52500 [01:03<00:00, 821.25it/s]\n",
      "100%|██████████| 52500/52500 [01:02<00:00, 838.64it/s]\n"
     ]
    },
    {
     "name": "stdout",
     "output_type": "stream",
     "text": [
      "[0.50301, 0.53354, 0.56934, 0.60035, 0.60159, 0.58913, 0.58098, 0.55259, 0.56777, 0.5742, 0.56199, 0.54905, 0.55437, 0.51083, 0.48468, 0.50359, 0.50489, 0.51031, 0.46972, 0.48659]\n"
     ]
    },
    {
     "name": "stderr",
     "output_type": "stream",
     "text": [
      "Auto-assigning NUTS sampler...\n",
      "Initializing NUTS using jitter+adapt_diag...\n",
      "Sequential sampling (2 chains in 1 job)\n",
      "NUTS: [sd_normal, mu_normal]\n",
      "100%|██████████| 52500/52500 [01:03<00:00, 832.57it/s]\n",
      "100%|██████████| 52500/52500 [01:03<00:00, 830.83it/s]\n"
     ]
    },
    {
     "name": "stdout",
     "output_type": "stream",
     "text": [
      "[0.50301, 0.53354, 0.56934, 0.60035, 0.60159, 0.58913, 0.58098, 0.55259, 0.56777, 0.5742, 0.56199, 0.54905, 0.55437, 0.51083, 0.48468, 0.50359, 0.50489, 0.51031, 0.46972, 0.48659, 0.50145]\n"
     ]
    },
    {
     "name": "stderr",
     "output_type": "stream",
     "text": [
      "Auto-assigning NUTS sampler...\n",
      "Initializing NUTS using jitter+adapt_diag...\n",
      "Sequential sampling (2 chains in 1 job)\n",
      "NUTS: [sd_normal, mu_normal]\n",
      "100%|██████████| 52500/52500 [01:02<00:00, 845.84it/s]\n",
      "100%|██████████| 52500/52500 [01:04<00:00, 814.87it/s]\n"
     ]
    },
    {
     "name": "stdout",
     "output_type": "stream",
     "text": [
      "[0.50301, 0.53354, 0.56934, 0.60035, 0.60159, 0.58913, 0.58098, 0.55259, 0.56777, 0.5742, 0.56199, 0.54905, 0.55437, 0.51083, 0.48468, 0.50359, 0.50489, 0.51031, 0.46972, 0.48659, 0.50145, 0.53486]\n"
     ]
    },
    {
     "name": "stderr",
     "output_type": "stream",
     "text": [
      "Auto-assigning NUTS sampler...\n",
      "Initializing NUTS using jitter+adapt_diag...\n",
      "Sequential sampling (2 chains in 1 job)\n",
      "NUTS: [sd_normal, mu_normal]\n",
      "100%|██████████| 52500/52500 [01:01<00:00, 853.26it/s]\n",
      "100%|██████████| 52500/52500 [01:03<00:00, 825.78it/s]\n"
     ]
    },
    {
     "name": "stdout",
     "output_type": "stream",
     "text": [
      "[0.50301, 0.53354, 0.56934, 0.60035, 0.60159, 0.58913, 0.58098, 0.55259, 0.56777, 0.5742, 0.56199, 0.54905, 0.55437, 0.51083, 0.48468, 0.50359, 0.50489, 0.51031, 0.46972, 0.48659, 0.50145, 0.53486, 0.49832]\n"
     ]
    },
    {
     "name": "stderr",
     "output_type": "stream",
     "text": [
      "Auto-assigning NUTS sampler...\n",
      "Initializing NUTS using jitter+adapt_diag...\n",
      "Sequential sampling (2 chains in 1 job)\n",
      "NUTS: [sd_normal, mu_normal]\n",
      "100%|██████████| 52500/52500 [01:03<00:00, 826.12it/s]\n",
      "100%|██████████| 52500/52500 [01:04<00:00, 811.38it/s]\n"
     ]
    },
    {
     "name": "stdout",
     "output_type": "stream",
     "text": [
      "[0.50301, 0.53354, 0.56934, 0.60035, 0.60159, 0.58913, 0.58098, 0.55259, 0.56777, 0.5742, 0.56199, 0.54905, 0.55437, 0.51083, 0.48468, 0.50359, 0.50489, 0.51031, 0.46972, 0.48659, 0.50145, 0.53486, 0.49832, 0.50977]\n"
     ]
    },
    {
     "name": "stderr",
     "output_type": "stream",
     "text": [
      "Auto-assigning NUTS sampler...\n",
      "Initializing NUTS using jitter+adapt_diag...\n",
      "Sequential sampling (2 chains in 1 job)\n",
      "NUTS: [sd_normal, mu_normal]\n",
      "100%|██████████| 52500/52500 [01:02<00:00, 839.39it/s]\n",
      "100%|██████████| 52500/52500 [01:03<00:00, 822.99it/s]\n"
     ]
    },
    {
     "name": "stdout",
     "output_type": "stream",
     "text": [
      "[0.50301, 0.53354, 0.56934, 0.60035, 0.60159, 0.58913, 0.58098, 0.55259, 0.56777, 0.5742, 0.56199, 0.54905, 0.55437, 0.51083, 0.48468, 0.50359, 0.50489, 0.51031, 0.46972, 0.48659, 0.50145, 0.53486, 0.49832, 0.50977, 0.51321]\n"
     ]
    },
    {
     "name": "stderr",
     "output_type": "stream",
     "text": [
      "Auto-assigning NUTS sampler...\n",
      "Initializing NUTS using jitter+adapt_diag...\n",
      "Sequential sampling (2 chains in 1 job)\n",
      "NUTS: [sd_normal, mu_normal]\n",
      "100%|██████████| 52500/52500 [01:02<00:00, 844.24it/s]\n",
      "100%|██████████| 52500/52500 [01:02<00:00, 835.90it/s]\n"
     ]
    },
    {
     "name": "stdout",
     "output_type": "stream",
     "text": [
      "[0.50301, 0.53354, 0.56934, 0.60035, 0.60159, 0.58913, 0.58098, 0.55259, 0.56777, 0.5742, 0.56199, 0.54905, 0.55437, 0.51083, 0.48468, 0.50359, 0.50489, 0.51031, 0.46972, 0.48659, 0.50145, 0.53486, 0.49832, 0.50977, 0.51321, 0.50367]\n"
     ]
    },
    {
     "name": "stderr",
     "output_type": "stream",
     "text": [
      "Auto-assigning NUTS sampler...\n",
      "Initializing NUTS using jitter+adapt_diag...\n",
      "Sequential sampling (2 chains in 1 job)\n",
      "NUTS: [sd_normal, mu_normal]\n",
      "100%|██████████| 52500/52500 [01:03<00:00, 828.72it/s]\n",
      "100%|██████████| 52500/52500 [01:02<00:00, 842.25it/s]\n"
     ]
    },
    {
     "name": "stdout",
     "output_type": "stream",
     "text": [
      "[0.50301, 0.53354, 0.56934, 0.60035, 0.60159, 0.58913, 0.58098, 0.55259, 0.56777, 0.5742, 0.56199, 0.54905, 0.55437, 0.51083, 0.48468, 0.50359, 0.50489, 0.51031, 0.46972, 0.48659, 0.50145, 0.53486, 0.49832, 0.50977, 0.51321, 0.50367, 0.45415]\n"
     ]
    },
    {
     "name": "stderr",
     "output_type": "stream",
     "text": [
      "Auto-assigning NUTS sampler...\n",
      "Initializing NUTS using jitter+adapt_diag...\n",
      "Sequential sampling (2 chains in 1 job)\n",
      "NUTS: [sd_normal, mu_normal]\n",
      "100%|██████████| 52500/52500 [01:04<00:00, 818.70it/s]\n",
      "  0%|          | 0/52500 [00:00<?, ?it/s]\n",
      "Auto-assigning NUTS sampler...\n",
      "Initializing NUTS using jitter+adapt_diag...\n",
      "Sequential sampling (2 chains in 1 job)\n",
      "NUTS: [sd_normal, mu_normal]\n",
      "100%|██████████| 52500/52500 [01:05<00:00, 807.53it/s]\n",
      "100%|██████████| 52500/52500 [01:05<00:00, 795.97it/s]\n"
     ]
    },
    {
     "name": "stdout",
     "output_type": "stream",
     "text": [
      "[0.50301, 0.53354, 0.56934, 0.60035, 0.60159, 0.58913, 0.58098, 0.55259, 0.56777, 0.5742, 0.56199, 0.54905, 0.55437, 0.51083, 0.48468, 0.50359, 0.50489, 0.51031, 0.46972, 0.48659, 0.50145, 0.53486, 0.49832, 0.50977, 0.51321, 0.50367, 0.45415, 0.48139]\n"
     ]
    },
    {
     "name": "stderr",
     "output_type": "stream",
     "text": [
      "Auto-assigning NUTS sampler...\n",
      "Initializing NUTS using jitter+adapt_diag...\n",
      "Sequential sampling (2 chains in 1 job)\n",
      "NUTS: [sd_normal, mu_normal]\n",
      "100%|██████████| 52500/52500 [01:04<00:00, 818.82it/s]\n",
      "100%|██████████| 52500/52500 [01:02<00:00, 838.00it/s]\n"
     ]
    },
    {
     "name": "stdout",
     "output_type": "stream",
     "text": [
      "[0.50301, 0.53354, 0.56934, 0.60035, 0.60159, 0.58913, 0.58098, 0.55259, 0.56777, 0.5742, 0.56199, 0.54905, 0.55437, 0.51083, 0.48468, 0.50359, 0.50489, 0.51031, 0.46972, 0.48659, 0.50145, 0.53486, 0.49832, 0.50977, 0.51321, 0.50367, 0.45415, 0.48139, 0.44593]\n"
     ]
    },
    {
     "name": "stderr",
     "output_type": "stream",
     "text": [
      "Auto-assigning NUTS sampler...\n",
      "Initializing NUTS using jitter+adapt_diag...\n",
      "Sequential sampling (2 chains in 1 job)\n",
      "NUTS: [sd_normal, mu_normal]\n",
      "100%|██████████| 52500/52500 [01:04<00:00, 819.96it/s]\n",
      "  0%|          | 0/52500 [00:00<?, ?it/s]\n",
      "Auto-assigning NUTS sampler...\n",
      "Initializing NUTS using jitter+adapt_diag...\n",
      "Sequential sampling (2 chains in 1 job)\n",
      "NUTS: [sd_normal, mu_normal]\n",
      "100%|██████████| 52500/52500 [01:04<00:00, 815.20it/s]\n",
      "100%|██████████| 52500/52500 [01:07<00:00, 776.29it/s]\n"
     ]
    },
    {
     "name": "stdout",
     "output_type": "stream",
     "text": [
      "[0.50301, 0.53354, 0.56934, 0.60035, 0.60159, 0.58913, 0.58098, 0.55259, 0.56777, 0.5742, 0.56199, 0.54905, 0.55437, 0.51083, 0.48468, 0.50359, 0.50489, 0.51031, 0.46972, 0.48659, 0.50145, 0.53486, 0.49832, 0.50977, 0.51321, 0.50367, 0.45415, 0.48139, 0.44593, 0.43574]\n"
     ]
    },
    {
     "name": "stderr",
     "output_type": "stream",
     "text": [
      "Auto-assigning NUTS sampler...\n",
      "Initializing NUTS using jitter+adapt_diag...\n",
      "Sequential sampling (2 chains in 1 job)\n",
      "NUTS: [sd_normal, mu_normal]\n",
      "100%|██████████| 52500/52500 [01:03<00:00, 825.30it/s]\n",
      "100%|██████████| 52500/52500 [01:02<00:00, 844.10it/s]\n"
     ]
    },
    {
     "name": "stdout",
     "output_type": "stream",
     "text": [
      "[0.50301, 0.53354, 0.56934, 0.60035, 0.60159, 0.58913, 0.58098, 0.55259, 0.56777, 0.5742, 0.56199, 0.54905, 0.55437, 0.51083, 0.48468, 0.50359, 0.50489, 0.51031, 0.46972, 0.48659, 0.50145, 0.53486, 0.49832, 0.50977, 0.51321, 0.50367, 0.45415, 0.48139, 0.44593, 0.43574, 0.44129]\n"
     ]
    },
    {
     "name": "stderr",
     "output_type": "stream",
     "text": [
      "Auto-assigning NUTS sampler...\n",
      "Initializing NUTS using jitter+adapt_diag...\n",
      "Sequential sampling (2 chains in 1 job)\n",
      "NUTS: [sd_normal, mu_normal]\n",
      "100%|██████████| 52500/52500 [01:09<00:00, 754.16it/s]\n",
      "100%|██████████| 52500/52500 [01:05<00:00, 801.75it/s]\n"
     ]
    },
    {
     "name": "stdout",
     "output_type": "stream",
     "text": [
      "[0.50301, 0.53354, 0.56934, 0.60035, 0.60159, 0.58913, 0.58098, 0.55259, 0.56777, 0.5742, 0.56199, 0.54905, 0.55437, 0.51083, 0.48468, 0.50359, 0.50489, 0.51031, 0.46972, 0.48659, 0.50145, 0.53486, 0.49832, 0.50977, 0.51321, 0.50367, 0.45415, 0.48139, 0.44593, 0.43574, 0.44129, 0.48137]\n"
     ]
    },
    {
     "name": "stderr",
     "output_type": "stream",
     "text": [
      "Auto-assigning NUTS sampler...\n",
      "Initializing NUTS using jitter+adapt_diag...\n",
      "Sequential sampling (2 chains in 1 job)\n",
      "NUTS: [sd_normal, mu_normal]\n",
      "100%|██████████| 52500/52500 [01:06<00:00, 788.52it/s]\n",
      "100%|██████████| 52500/52500 [01:05<00:00, 796.13it/s]\n",
      "The acceptance probability does not match the target. It is 0.713795690196, but should be close to 0.8. Try to increase the number of tuning steps.\n"
     ]
    },
    {
     "name": "stdout",
     "output_type": "stream",
     "text": [
      "[0.50301, 0.53354, 0.56934, 0.60035, 0.60159, 0.58913, 0.58098, 0.55259, 0.56777, 0.5742, 0.56199, 0.54905, 0.55437, 0.51083, 0.48468, 0.50359, 0.50489, 0.51031, 0.46972, 0.48659, 0.50145, 0.53486, 0.49832, 0.50977, 0.51321, 0.50367, 0.45415, 0.48139, 0.44593, 0.43574, 0.44129, 0.48137, 0.45873]\n"
     ]
    },
    {
     "name": "stderr",
     "output_type": "stream",
     "text": [
      "Auto-assigning NUTS sampler...\n",
      "Initializing NUTS using jitter+adapt_diag...\n",
      "Sequential sampling (2 chains in 1 job)\n",
      "NUTS: [sd_normal, mu_normal]\n",
      "100%|██████████| 52500/52500 [01:06<00:00, 788.17it/s]\n",
      "100%|██████████| 52500/52500 [01:05<00:00, 805.06it/s]\n"
     ]
    },
    {
     "name": "stdout",
     "output_type": "stream",
     "text": [
      "[0.50301, 0.53354, 0.56934, 0.60035, 0.60159, 0.58913, 0.58098, 0.55259, 0.56777, 0.5742, 0.56199, 0.54905, 0.55437, 0.51083, 0.48468, 0.50359, 0.50489, 0.51031, 0.46972, 0.48659, 0.50145, 0.53486, 0.49832, 0.50977, 0.51321, 0.50367, 0.45415, 0.48139, 0.44593, 0.43574, 0.44129, 0.48137, 0.45873, 0.42378]\n"
     ]
    },
    {
     "name": "stderr",
     "output_type": "stream",
     "text": [
      "Auto-assigning NUTS sampler...\n",
      "Initializing NUTS using jitter+adapt_diag...\n",
      "Sequential sampling (2 chains in 1 job)\n",
      "NUTS: [sd_normal, mu_normal]\n",
      "100%|██████████| 52500/52500 [01:03<00:00, 826.49it/s]\n",
      "100%|██████████| 52500/52500 [01:02<00:00, 833.58it/s]\n"
     ]
    },
    {
     "name": "stdout",
     "output_type": "stream",
     "text": [
      "[0.50301, 0.53354, 0.56934, 0.60035, 0.60159, 0.58913, 0.58098, 0.55259, 0.56777, 0.5742, 0.56199, 0.54905, 0.55437, 0.51083, 0.48468, 0.50359, 0.50489, 0.51031, 0.46972, 0.48659, 0.50145, 0.53486, 0.49832, 0.50977, 0.51321, 0.50367, 0.45415, 0.48139, 0.44593, 0.43574, 0.44129, 0.48137, 0.45873, 0.42378, 0.45098]\n"
     ]
    },
    {
     "name": "stderr",
     "output_type": "stream",
     "text": [
      "Auto-assigning NUTS sampler...\n",
      "Initializing NUTS using jitter+adapt_diag...\n",
      "Sequential sampling (2 chains in 1 job)\n",
      "NUTS: [sd_normal, mu_normal]\n",
      "100%|██████████| 52500/52500 [01:03<00:00, 821.38it/s]\n",
      "100%|██████████| 52500/52500 [01:04<00:00, 816.08it/s]\n"
     ]
    },
    {
     "name": "stdout",
     "output_type": "stream",
     "text": [
      "[0.50301, 0.53354, 0.56934, 0.60035, 0.60159, 0.58913, 0.58098, 0.55259, 0.56777, 0.5742, 0.56199, 0.54905, 0.55437, 0.51083, 0.48468, 0.50359, 0.50489, 0.51031, 0.46972, 0.48659, 0.50145, 0.53486, 0.49832, 0.50977, 0.51321, 0.50367, 0.45415, 0.48139, 0.44593, 0.43574, 0.44129, 0.48137, 0.45873, 0.42378, 0.45098, 0.44271]\n"
     ]
    },
    {
     "name": "stderr",
     "output_type": "stream",
     "text": [
      "Auto-assigning NUTS sampler...\n",
      "Initializing NUTS using jitter+adapt_diag...\n",
      "Sequential sampling (2 chains in 1 job)\n",
      "NUTS: [sd_normal, mu_normal]\n",
      "  0%|          | 0/52500 [00:00<?, ?it/s]\n",
      "Auto-assigning NUTS sampler...\n",
      "Initializing NUTS using jitter+adapt_diag...\n",
      "Sequential sampling (2 chains in 1 job)\n",
      "NUTS: [sd_normal, mu_normal]\n",
      "100%|██████████| 52500/52500 [01:04<00:00, 808.54it/s]\n",
      "100%|██████████| 52500/52500 [01:03<00:00, 826.94it/s]\n"
     ]
    },
    {
     "name": "stdout",
     "output_type": "stream",
     "text": [
      "[0.50301, 0.53354, 0.56934, 0.60035, 0.60159, 0.58913, 0.58098, 0.55259, 0.56777, 0.5742, 0.56199, 0.54905, 0.55437, 0.51083, 0.48468, 0.50359, 0.50489, 0.51031, 0.46972, 0.48659, 0.50145, 0.53486, 0.49832, 0.50977, 0.51321, 0.50367, 0.45415, 0.48139, 0.44593, 0.43574, 0.44129, 0.48137, 0.45873, 0.42378, 0.45098, 0.44271, 0.43403]\n"
     ]
    },
    {
     "name": "stderr",
     "output_type": "stream",
     "text": [
      "Auto-assigning NUTS sampler...\n",
      "Initializing NUTS using jitter+adapt_diag...\n",
      "Sequential sampling (2 chains in 1 job)\n",
      "NUTS: [sd_normal, mu_normal]\n",
      "100%|██████████| 52500/52500 [01:03<00:00, 821.41it/s]\n",
      "100%|██████████| 52500/52500 [01:03<00:00, 826.50it/s]\n"
     ]
    },
    {
     "name": "stdout",
     "output_type": "stream",
     "text": [
      "[0.50301, 0.53354, 0.56934, 0.60035, 0.60159, 0.58913, 0.58098, 0.55259, 0.56777, 0.5742, 0.56199, 0.54905, 0.55437, 0.51083, 0.48468, 0.50359, 0.50489, 0.51031, 0.46972, 0.48659, 0.50145, 0.53486, 0.49832, 0.50977, 0.51321, 0.50367, 0.45415, 0.48139, 0.44593, 0.43574, 0.44129, 0.48137, 0.45873, 0.42378, 0.45098, 0.44271, 0.43403, 0.46233]\n"
     ]
    },
    {
     "name": "stderr",
     "output_type": "stream",
     "text": [
      "Auto-assigning NUTS sampler...\n",
      "Initializing NUTS using jitter+adapt_diag...\n",
      "Sequential sampling (2 chains in 1 job)\n",
      "NUTS: [sd_normal, mu_normal]\n",
      "100%|██████████| 52500/52500 [01:03<00:00, 823.46it/s]\n",
      "100%|██████████| 52500/52500 [01:04<00:00, 812.87it/s]\n"
     ]
    },
    {
     "name": "stdout",
     "output_type": "stream",
     "text": [
      "[0.50301, 0.53354, 0.56934, 0.60035, 0.60159, 0.58913, 0.58098, 0.55259, 0.56777, 0.5742, 0.56199, 0.54905, 0.55437, 0.51083, 0.48468, 0.50359, 0.50489, 0.51031, 0.46972, 0.48659, 0.50145, 0.53486, 0.49832, 0.50977, 0.51321, 0.50367, 0.45415, 0.48139, 0.44593, 0.43574, 0.44129, 0.48137, 0.45873, 0.42378, 0.45098, 0.44271, 0.43403, 0.46233, 0.48589]\n"
     ]
    },
    {
     "name": "stderr",
     "output_type": "stream",
     "text": [
      "Auto-assigning NUTS sampler...\n",
      "Initializing NUTS using jitter+adapt_diag...\n",
      "Sequential sampling (2 chains in 1 job)\n",
      "NUTS: [sd_normal, mu_normal]\n",
      "100%|██████████| 52500/52500 [01:05<00:00, 800.18it/s]\n",
      "100%|██████████| 52500/52500 [01:04<00:00, 815.58it/s]\n"
     ]
    },
    {
     "name": "stdout",
     "output_type": "stream",
     "text": [
      "[0.50301, 0.53354, 0.56934, 0.60035, 0.60159, 0.58913, 0.58098, 0.55259, 0.56777, 0.5742, 0.56199, 0.54905, 0.55437, 0.51083, 0.48468, 0.50359, 0.50489, 0.51031, 0.46972, 0.48659, 0.50145, 0.53486, 0.49832, 0.50977, 0.51321, 0.50367, 0.45415, 0.48139, 0.44593, 0.43574, 0.44129, 0.48137, 0.45873, 0.42378, 0.45098, 0.44271, 0.43403, 0.46233, 0.48589, 0.50306]\n"
     ]
    },
    {
     "name": "stderr",
     "output_type": "stream",
     "text": [
      "Auto-assigning NUTS sampler...\n",
      "Initializing NUTS using jitter+adapt_diag...\n",
      "Sequential sampling (2 chains in 1 job)\n",
      "NUTS: [sd_normal, mu_normal]\n",
      "100%|██████████| 52500/52500 [01:03<00:00, 823.05it/s]\n",
      "100%|██████████| 52500/52500 [01:04<00:00, 815.76it/s]\n"
     ]
    },
    {
     "name": "stdout",
     "output_type": "stream",
     "text": [
      "[0.50301, 0.53354, 0.56934, 0.60035, 0.60159, 0.58913, 0.58098, 0.55259, 0.56777, 0.5742, 0.56199, 0.54905, 0.55437, 0.51083, 0.48468, 0.50359, 0.50489, 0.51031, 0.46972, 0.48659, 0.50145, 0.53486, 0.49832, 0.50977, 0.51321, 0.50367, 0.45415, 0.48139, 0.44593, 0.43574, 0.44129, 0.48137, 0.45873, 0.42378, 0.45098, 0.44271, 0.43403, 0.46233, 0.48589, 0.50306, 0.51586]\n"
     ]
    }
   ],
   "source": [
    "probabilities = []\n",
    "for i in range(0, len(df_2019)):\n",
    "    observed = df_2019[0:i+1]['GoalDiff'].values\n",
    "    cont = True\n",
    "    while cont == True:\n",
    "        try:\n",
    "            with pm.Model() as model:\n",
    "                #Pooled Parameters\n",
    "                mu_normal = from_posterior('mu_normal', trace['mu_normal'])\n",
    "                sd_normal = from_posterior('sd_normal', trace['sd_normal'])\n",
    "\n",
    "                likelihood = pm.Normal('likelihood', mu=mu_normal, sd=sd_normal, observed=observed)\n",
    "\n",
    "                trace2 = pm.sample(50000, cores=-1, tune=2500)\n",
    "                \n",
    "            probabilities.append(prob_persona_faster(trace2.get_values('mu_normal'), trace.get_values('mu_normal')))\n",
    "            print(probabilities)\n",
    "            cont = False\n",
    "        except:\n",
    "            pass"
   ]
  },
  {
   "cell_type": "code",
   "execution_count": 33,
   "metadata": {},
   "outputs": [
    {
     "data": {
      "text/plain": [
       "41"
      ]
     },
     "execution_count": 33,
     "metadata": {},
     "output_type": "execute_result"
    }
   ],
   "source": [
    "len(probabilities)"
   ]
  },
  {
   "cell_type": "code",
   "execution_count": 34,
   "metadata": {},
   "outputs": [
    {
     "data": {
      "text/html": [
       "<div>\n",
       "<style scoped>\n",
       "    .dataframe tbody tr th:only-of-type {\n",
       "        vertical-align: middle;\n",
       "    }\n",
       "\n",
       "    .dataframe tbody tr th {\n",
       "        vertical-align: top;\n",
       "    }\n",
       "\n",
       "    .dataframe thead th {\n",
       "        text-align: right;\n",
       "    }\n",
       "</style>\n",
       "<table border=\"1\" class=\"dataframe\">\n",
       "  <thead>\n",
       "    <tr style=\"text-align: right;\">\n",
       "      <th></th>\n",
       "      <th>index</th>\n",
       "      <th>GameID</th>\n",
       "      <th>Final_Away_Score</th>\n",
       "      <th>Final_Home_Score</th>\n",
       "      <th>Home</th>\n",
       "      <th>Away</th>\n",
       "      <th>GameDate</th>\n",
       "      <th>Season</th>\n",
       "      <th>Carolina Hurricanes</th>\n",
       "      <th>Opponent</th>\n",
       "      <th>GoalDiff</th>\n",
       "    </tr>\n",
       "  </thead>\n",
       "  <tbody>\n",
       "    <tr>\n",
       "      <th>36</th>\n",
       "      <td>116</td>\n",
       "      <td>2018020583</td>\n",
       "      <td>0</td>\n",
       "      <td>2</td>\n",
       "      <td>New Jersey Devils</td>\n",
       "      <td>Carolina Hurricanes</td>\n",
       "      <td>2018-12-29</td>\n",
       "      <td>2018-2019</td>\n",
       "      <td>0.0</td>\n",
       "      <td>1.0</td>\n",
       "      <td>-1.0</td>\n",
       "    </tr>\n",
       "    <tr>\n",
       "      <th>37</th>\n",
       "      <td>117</td>\n",
       "      <td>2018020602</td>\n",
       "      <td>1</td>\n",
       "      <td>3</td>\n",
       "      <td>Carolina Hurricanes</td>\n",
       "      <td>Philadelphia Flyers</td>\n",
       "      <td>2018-12-31</td>\n",
       "      <td>2018-2019</td>\n",
       "      <td>3.0</td>\n",
       "      <td>1.0</td>\n",
       "      <td>2.0</td>\n",
       "    </tr>\n",
       "    <tr>\n",
       "      <th>38</th>\n",
       "      <td>118</td>\n",
       "      <td>2018020625</td>\n",
       "      <td>5</td>\n",
       "      <td>3</td>\n",
       "      <td>Philadelphia Flyers</td>\n",
       "      <td>Carolina Hurricanes</td>\n",
       "      <td>2019-01-03</td>\n",
       "      <td>2018-2019</td>\n",
       "      <td>5.0</td>\n",
       "      <td>3.0</td>\n",
       "      <td>2.0</td>\n",
       "    </tr>\n",
       "    <tr>\n",
       "      <th>39</th>\n",
       "      <td>119</td>\n",
       "      <td>2018020631</td>\n",
       "      <td>2</td>\n",
       "      <td>4</td>\n",
       "      <td>Carolina Hurricanes</td>\n",
       "      <td>Columbus Blue Jackets</td>\n",
       "      <td>2019-01-04</td>\n",
       "      <td>2018-2019</td>\n",
       "      <td>3.0</td>\n",
       "      <td>2.0</td>\n",
       "      <td>1.0</td>\n",
       "    </tr>\n",
       "    <tr>\n",
       "      <th>40</th>\n",
       "      <td>120</td>\n",
       "      <td>2018020647</td>\n",
       "      <td>5</td>\n",
       "      <td>4</td>\n",
       "      <td>Ottawa Senators</td>\n",
       "      <td>Carolina Hurricanes</td>\n",
       "      <td>2019-01-06</td>\n",
       "      <td>2018-2019</td>\n",
       "      <td>5.0</td>\n",
       "      <td>4.0</td>\n",
       "      <td>1.0</td>\n",
       "    </tr>\n",
       "  </tbody>\n",
       "</table>\n",
       "</div>"
      ],
      "text/plain": [
       "    index      GameID  Final_Away_Score  Final_Home_Score  \\\n",
       "36    116  2018020583                 0                 2   \n",
       "37    117  2018020602                 1                 3   \n",
       "38    118  2018020625                 5                 3   \n",
       "39    119  2018020631                 2                 4   \n",
       "40    120  2018020647                 5                 4   \n",
       "\n",
       "                   Home                   Away    GameDate     Season  \\\n",
       "36    New Jersey Devils    Carolina Hurricanes  2018-12-29  2018-2019   \n",
       "37  Carolina Hurricanes    Philadelphia Flyers  2018-12-31  2018-2019   \n",
       "38  Philadelphia Flyers    Carolina Hurricanes  2019-01-03  2018-2019   \n",
       "39  Carolina Hurricanes  Columbus Blue Jackets  2019-01-04  2018-2019   \n",
       "40      Ottawa Senators    Carolina Hurricanes  2019-01-06  2018-2019   \n",
       "\n",
       "    Carolina Hurricanes  Opponent  GoalDiff  \n",
       "36                  0.0       1.0      -1.0  \n",
       "37                  3.0       1.0       2.0  \n",
       "38                  5.0       3.0       2.0  \n",
       "39                  3.0       2.0       1.0  \n",
       "40                  5.0       4.0       1.0  "
      ]
     },
     "execution_count": 34,
     "metadata": {},
     "output_type": "execute_result"
    }
   ],
   "source": [
    "df_2019.tail()"
   ]
  },
  {
   "cell_type": "code",
   "execution_count": 35,
   "metadata": {},
   "outputs": [],
   "source": [
    "df_2019 = df_2019.reset_index()"
   ]
  },
  {
   "cell_type": "code",
   "execution_count": 36,
   "metadata": {},
   "outputs": [],
   "source": [
    "df_2019['Probability'] = probabilities"
   ]
  },
  {
   "cell_type": "code",
   "execution_count": 38,
   "metadata": {},
   "outputs": [],
   "source": [
    "#Format Opponent Name/Dates\n",
    "df_2019['OpposingTeam'] = df_2019.apply(lambda row: row['Home'] if row['Home'] != 'Carolina Hurricanes' else row['Away'], axis=1)\n",
    "df_2019['Opponent2'] =  pd.to_datetime(df_2019['GameDate']).dt.strftime(\"%b %d\") + \" \\n \" + df_2019['OpposingTeam']"
   ]
  },
  {
   "cell_type": "code",
   "execution_count": 39,
   "metadata": {
    "scrolled": true
   },
   "outputs": [
    {
     "name": "stdout",
     "output_type": "stream",
     "text": [
      "[ 0.       0.50301]\n",
      "[ 1.       0.53354]\n",
      "[ 2.       0.56934]\n",
      "[ 3.       0.60035]\n",
      "[ 4.       0.60159]\n",
      "[ 5.       0.58913]\n",
      "[ 6.       0.58098]\n",
      "[ 7.       0.55259]\n",
      "[ 8.       0.56777]\n",
      "[ 9.      0.5742]\n",
      "[ 10.        0.56199]\n",
      "[ 11.        0.54905]\n",
      "[ 12.        0.55437]\n",
      "[ 13.        0.51083]\n",
      "[ 14.        0.48468]\n",
      "[ 15.        0.50359]\n",
      "[ 16.        0.50489]\n",
      "[ 17.        0.51031]\n",
      "[ 18.        0.46972]\n",
      "[ 19.        0.48659]\n",
      "[ 20.        0.50145]\n",
      "[ 21.        0.53486]\n",
      "[ 22.        0.49832]\n",
      "[ 23.        0.50977]\n",
      "[ 24.        0.51321]\n",
      "[ 25.        0.50367]\n",
      "[ 26.        0.45415]\n",
      "[ 27.        0.48139]\n",
      "[ 28.        0.44593]\n",
      "[ 29.        0.43574]\n",
      "[ 30.        0.44129]\n",
      "[ 31.        0.48137]\n",
      "[ 32.        0.45873]\n",
      "[ 33.        0.42378]\n",
      "[ 34.        0.45098]\n",
      "[ 35.        0.44271]\n",
      "[ 36.        0.43403]\n",
      "[ 37.        0.46233]\n",
      "[ 38.        0.48589]\n",
      "[ 39.        0.50306]\n",
      "[ 40.        0.51586]\n"
     ]
    },
    {
     "data": {
      "image/png": "[encoded data removed]",
      "text/plain": [
       "<Figure size 5040x720 with 1 Axes>"
      ]
     },
     "metadata": {
      "needs_background": "light"
     },
     "output_type": "display_data"
    }
   ],
   "source": [
    "fig, ax = plt.subplots(figsize=(70, 10))\n",
    "ax.set_title('Probability 2018-2019 Canes have better Goal Differential than 2017-2018 Canes', fontsize=18)\n",
    "p1 = sns.pointplot(x=df_2019['Opponent2'], y=df_2019['Probability'], color='red')\n",
    "plt.axhline(.975, color='black', ls='--', label= \"Yeah! We're Better than Last Year!\")\n",
    "plt.axhline(.025, color='black', ls='--', label= \"Nope We Suck\")\n",
    "plt.axhline(.50, color='grey', ls='--')\n",
    "p1.set_ylabel('Probability Canes Are Better', fontsize=15)\n",
    "p1.set_xlabel('Opponent', fontsize=15)\n",
    "for c in ax.collections:\n",
    "    for of in c.get_offsets():\n",
    "        print(of)\n",
    "        of2 = [of[0], of[1]+0.02]\n",
    "        ax.annotate('%r' % round(of[1]*100, 0) + \"%\", of2, size=15)\n",
    "ax.annotate(\"Yeah! We're Better than last year!\", [3, .98], size=15)\n",
    "ax.annotate(\"Oh no! We suck again!\", [3, .03], size=15)\n",
    "plt.show()"
   ]
  },
  {
   "cell_type": "code",
   "execution_count": 40,
   "metadata": {},
   "outputs": [],
   "source": [
    "df_2019['Probabilities'] = probabilities"
   ]
  },
  {
   "cell_type": "code",
   "execution_count": 41,
   "metadata": {},
   "outputs": [],
   "source": [
    "df_2019.to_csv(\"canes.csv\")"
   ]
  },
  {
   "cell_type": "code",
   "execution_count": null,
   "metadata": {},
   "outputs": [],
   "source": []
  }
 ],
 "metadata": {
  "kernelspec": {
   "display_name": "Python 3",
   "language": "python",
   "name": "python3"
  },
  "language_info": {
   "codemirror_mode": {
    "name": "ipython",
    "version": 3
   },
   "file_extension": ".py",
   "mimetype": "text/x-python",
   "name": "python",
   "nbconvert_exporter": "python",
   "pygments_lexer": "ipython3",
   "version": "3.6.6"
  }
 },
 "nbformat": 4,
 "nbformat_minor": 2
}
