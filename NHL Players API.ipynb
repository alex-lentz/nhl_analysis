{
 "cells": [
  {
   "cell_type": "markdown",
   "metadata": {},
   "source": [
    "<h1>NHL Player Data and Statistics</h1>\n",
    "\n",
    "To make better comparisons, pull data for each player's past two seasons of on-ice performance and \"vitals\" (height, weight, age, etc.)"
   ]
  },
  {
   "cell_type": "code",
   "execution_count": 2,
   "metadata": {},
   "outputs": [],
   "source": [
    "import numpy as np\n",
    "import pandas as pd\n",
    "import os\n",
    "import io\n",
    "import seaborn as sns\n",
    "import requests\n",
    "import json\n",
    "\n",
    "import matplotlib.pyplot as plt\n",
    "import pymc3 as pm\n",
    "\n",
    "import scipy\n",
    "import scipy.stats as stats\n",
    "import scipy.optimize as opt\n",
    "#import statsmodels.api as sm\n",
    "\n",
    "pd.set_option('display.max_columns', 500)\n",
    "pd.set_option('display.max_rows', 500)\n",
    "plt.style.use('seaborn-darkgrid')\n",
    "pd.set_option('display.max_columns', 500)\n",
    "%matplotlib inline "
   ]
  },
  {
   "cell_type": "code",
   "execution_count": 3,
   "metadata": {},
   "outputs": [],
   "source": [
    "data = pd.read_csv(\"data/combined_seasons.csv\")"
   ]
  },
  {
   "cell_type": "code",
   "execution_count": 4,
   "metadata": {},
   "outputs": [
    {
     "data": {
      "text/plain": [
       "Index(['Unnamed: 0', 'Assist1', 'Assist1_ID', 'Assist2', 'Assist2_ID',\n",
       "       'Assists2_ID', 'Away', 'Away_Score', 'EmptyNet', 'Event', 'EventID',\n",
       "       'Event_Description', 'Event_Team', 'Event_Type_ID', 'Final_Away_Score',\n",
       "       'Final_Home_Score', 'GameDate', 'GameID', 'GameState', 'GameType',\n",
       "       'Goalie', 'Goalie_ID', 'Home', 'Home_Score', 'Period', 'Period_Type',\n",
       "       'Player_1_ID', 'Player_1_Name', 'Player_2_ID', 'Player_2_Name',\n",
       "       'Scorer', 'Scorer_ID', 'Shooter', 'Shooter_ID', 'ShotType',\n",
       "       'Time_Remaining', 'Time_in_Period', 'Venue', 'x', 'y', 'Side', 'Season',\n",
       "       'y_stdz', 'x_stdz', 'y_normal', 'x_normal', 'Event_Team_Adj', 'y_same',\n",
       "       'x_same', 'zone_x', 'zone_y', 'shot_zone', 'Opposition Team',\n",
       "       'Shifted_Event_Type_ID', 'Shifted_shot_zone', 'Shifted_Time_Remaining',\n",
       "       'Event_Time_Difference', 'Shot_Context'],\n",
       "      dtype='object')"
      ]
     },
     "execution_count": 4,
     "metadata": {},
     "output_type": "execute_result"
    }
   ],
   "source": [
    "data.columns"
   ]
  },
  {
   "cell_type": "code",
   "execution_count": 5,
   "metadata": {},
   "outputs": [],
   "source": [
    "players = data[['Player_1_Name', 'Player_1_ID', 'Season']].groupby(['Player_1_Name', 'Player_1_ID', 'Season']).count().reset_index()"
   ]
  },
  {
   "cell_type": "code",
   "execution_count": 9,
   "metadata": {},
   "outputs": [],
   "source": [
    "#Create Function for getting Player Stats by season\n",
    "\n",
    "def get_player_vitals(season, players):\n",
    "    name = []\n",
    "    primaryNumber = []\n",
    "    birthDate = []\n",
    "    #currentAge = []\n",
    "    birthCity = []\n",
    "    birthStateProvince = []\n",
    "    birthCountry = []\n",
    "    nationality = []\n",
    "    height = []\n",
    "    weight = []\n",
    "    active = []\n",
    "    alternateCaptain = []\n",
    "    captain = []\n",
    "    rookie = []\n",
    "    shootsCatches = []\n",
    "    rosterStatus = []\n",
    "    currentTeam = []\n",
    "    primaryPosition = []\n",
    "\n",
    "    season_num = season.replace('-', '')\n",
    "    for player in players[players['Season'] == str(season)]['Player_1_ID']:\n",
    "        if player != 'None':\n",
    "            r = requests.get('https://statsapi.web.nhl.com/api/v1/people/'+ player + '?season='+ str(season_num))\n",
    "            data = r.json()\n",
    "            data = data['people'][0]\n",
    "\n",
    "            try:\n",
    "                name.append(data['fullName'])\n",
    "            except:\n",
    "                name.append('NA')\n",
    "            try:\n",
    "                primaryNumber.append(data['primaryNumber'])\n",
    "            except:\n",
    "                primaryNumber.append('NA')\n",
    "            try:\n",
    "                birthDate.append(data['birthDate'])\n",
    "            except:\n",
    "                birthDate.append('NA')\n",
    "            #currentAge.append(data['currentAge'])\n",
    "            try:\n",
    "                birthCity.append(data['birthCity'])\n",
    "            except:\n",
    "                birthCity.append('NA')\n",
    "            try:\n",
    "                birthStateProvince.append(data['birthStateProvince'])\n",
    "            except:\n",
    "                birthStateProvince.append('NA')\n",
    "            try:\n",
    "                birthCountry.append(data['birthCountry'])\n",
    "            except:\n",
    "                birthCountry.append('NA')\n",
    "            try:\n",
    "                nationality.append(data['nationality'])\n",
    "            except:\n",
    "                nationality.append('NA')\n",
    "            try:\n",
    "                height.append(data['height'])\n",
    "            except:\n",
    "                height.append('NA')\n",
    "            try:\n",
    "                weight.append(data['weight'])\n",
    "            except:\n",
    "                weight.append('NA')\n",
    "            try:\n",
    "                active.append(data['active'])\n",
    "            except:\n",
    "                active.append('NA')\n",
    "            try:\n",
    "                alternateCaptain.append(data['alternateCaptain'])\n",
    "            except:\n",
    "                alternateCaptain.append('NA')\n",
    "            try:\n",
    "                captain.append(data['captain'])\n",
    "            except:\n",
    "                captain.append('NA')\n",
    "            try:\n",
    "                rookie.append(data['rookie'])\n",
    "            except:\n",
    "                rookie.append('NA')\n",
    "            try:\n",
    "                shootsCatches.append(data['shootsCatches'])\n",
    "            except:\n",
    "                shootsCatches.append('NA')\n",
    "            try:\n",
    "                rosterStatus.append(data['rosterStatus'])\n",
    "            except:\n",
    "                rosterStatus.append('NA')\n",
    "            try:\n",
    "                currentTeam.append(data['currentTeam']['name'])\n",
    "            except:\n",
    "                currentTeam.append('NA')\n",
    "            try:\n",
    "                primaryPosition.append(data['primaryPosition']['abbreviation'])\n",
    "            except:\n",
    "                primaryPosition.append('NA')\n",
    "    \n",
    "    player_vitals = pd.DataFrame(\n",
    "    {'Name': name, 'PrimaryNumber': primaryNumber, 'BirthDate': birthDate, 'BirthCity': birthCity,\n",
    "    'BirthState': birthStateProvince, 'BirthCountry': birthCountry, 'Nationality': nationality,\n",
    "    'Height': height, 'Weight': weight, 'Active': active, 'AlternateCaptain':alternateCaptain,\n",
    "    'Captain': captain, 'Rookie': rookie, 'Shoots_Catches': shootsCatches, 'RosterStatus': rosterStatus,\n",
    "    'CurrentTeam': currentTeam, 'Position': primaryPosition})\n",
    "\n",
    "    return player_vitals"
   ]
  },
  {
   "cell_type": "code",
   "execution_count": 10,
   "metadata": {},
   "outputs": [],
   "source": [
    "player_vitals_20172018 = get_player_vitals('2017-2018', players)\n",
    "player_vitals_20182019 = get_player_vitals('2018-2019', players)"
   ]
  },
  {
   "cell_type": "code",
   "execution_count": 12,
   "metadata": {},
   "outputs": [],
   "source": [
    "def get_player_stats_shooters(season, players):\n",
    "    season_num = str(season).replace('-', '')\n",
    "    r = requests.get('https://statsapi.web.nhl.com/api/v1/people/'+ '8478421/stats' + '?stats=statsSingleSeason&season=' + season_num)\n",
    "    data = r.json()\n",
    "    stats_dict = {}\n",
    "    for stat in data['stats'][0]['splits'][0]['stat']:\n",
    "        stats_dict[stat] = []\n",
    "    stats_dict['PlayerID'] = []\n",
    "\n",
    "    for player in players[players['Season'] == str(season)]['Player_1_ID']:\n",
    "        ###Now we need some stats!\n",
    "        r = requests.get('https://statsapi.web.nhl.com/api/v1/people/'+ player + '/stats?stats=statsSingleSeason&season=' + season_num)\n",
    "        data = r.json()\n",
    "\n",
    "        for key in stats_dict.keys():\n",
    "            if key == 'PlayerID':\n",
    "                stats_dict[key].append(player)\n",
    "            else:\n",
    "                try:\n",
    "                    stats_dict[key].append(data['stats'][0]['splits'][0]['stat'][key])\n",
    "                except:\n",
    "                    stats_dict[key].append('NA')\n",
    "\n",
    "    player_stats_shooters = pd.DataFrame(stats_dict)\n",
    "\n",
    "    player_stats_shooters = player_stats_shooters.merge(players[['Player_1_ID', 'Player_1_Name']].drop_duplicates(),\n",
    "                                                       left_on=['PlayerID'], right_on=['Player_1_ID'],\n",
    "                                                       how='left')\n",
    "    return player_stats_shooters"
   ]
  },
  {
   "cell_type": "code",
   "execution_count": 13,
   "metadata": {},
   "outputs": [],
   "source": [
    "shooter_stats_20172018 = get_player_stats_shooters('2017-2018', players)\n",
    "shooter_stats_20182019 = get_player_stats_shooters('2018-2019', players)"
   ]
  },
  {
   "cell_type": "code",
   "execution_count": 16,
   "metadata": {},
   "outputs": [],
   "source": [
    "#Write Data to Disc\n",
    "shooter_stats_20172018.to_csv('data/shooter_stats_20172018.csv', index=False)\n",
    "shooter_stats_20182019.to_csv('data/shooter_stats_20182019.csv', index=False)\n",
    "player_vitals_20172018.to_csv('data/player_vitals_20172018.csv', index=False)\n",
    "player_vitals_20182019.to_csv('data/player_vitals_20182019.csv', index=False)"
   ]
  }
 ],
 "metadata": {
  "kernelspec": {
   "display_name": "Python 3",
   "language": "python",
   "name": "python3"
  },
  "language_info": {
   "codemirror_mode": {
    "name": "ipython",
    "version": 3
   },
   "file_extension": ".py",
   "mimetype": "text/x-python",
   "name": "python",
   "nbconvert_exporter": "python",
   "pygments_lexer": "ipython3",
   "version": "3.6.6"
  }
 },
 "nbformat": 4,
 "nbformat_minor": 2
}
